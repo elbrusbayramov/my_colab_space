{
  "cells": [
    {
      "cell_type": "markdown",
      "metadata": {
        "id": "view-in-github",
        "colab_type": "text"
      },
      "source": [
        "<a href=\"https://colab.research.google.com/github/elbrusbayramov/my_colab_space/blob/main/Interact_with_google_sheet.ipynb\" target=\"_parent\"><img src=\"https://colab.research.google.com/assets/colab-badge.svg\" alt=\"Open In Colab\"/></a>"
      ]
    },
    {
      "cell_type": "markdown",
      "metadata": {
        "id": "2JdbG4qMaEgC"
      },
      "source": [
        "# Importing libs"
      ]
    },
    {
      "cell_type": "code",
      "execution_count": null,
      "metadata": {
        "id": "g6BIKv4GZyqR"
      },
      "outputs": [],
      "source": [
        "!pip install pytelegrambotapi\n",
        "import gspread\n",
        "from oauth2client.service_account import ServiceAccountCredentials\n",
        "import telebot\n",
        "import json"
      ]
    },
    {
      "cell_type": "markdown",
      "metadata": {
        "id": "r3RAgI7laT1-"
      },
      "source": [
        "# Set up Google Sheets API credentials"
      ]
    },
    {
      "cell_type": "code",
      "execution_count": null,
      "metadata": {
        "id": "EXPjH-OoaDel"
      },
      "outputs": [],
      "source": [
        "scope = ['https://spreadsheets.google.com/feeds', 'https://www.googleapis.com/auth/drive']\n",
        "credentials = ServiceAccountCredentials.from_json_keyfile_name('vital-valor-387513-1ad295aa1e92.json', scope)\n",
        "client = gspread.authorize(credentials)\n"
      ]
    },
    {
      "cell_type": "markdown",
      "metadata": {
        "id": "PkKdlhwFbNp4"
      },
      "source": [
        "# Connect to the spreadsheet"
      ]
    },
    {
      "cell_type": "code",
      "execution_count": null,
      "metadata": {
        "id": "9P07emwYbOgU"
      },
      "outputs": [],
      "source": [
        "spreadsheet_id = 'TestTelega'\n",
        "sheet_name = 'Sheet1'\n",
        "sheet = client.open(spreadsheet_id).worksheet(sheet_name)"
      ]
    },
    {
      "cell_type": "markdown",
      "metadata": {
        "id": "miX0PktEsTr5"
      },
      "source": [
        "# Read data from the spreadsheet as values\n"
      ]
    },
    {
      "cell_type": "code",
      "execution_count": null,
      "metadata": {
        "id": "tYGBEdydsXh5"
      },
      "outputs": [],
      "source": [
        "def get_headers():\n",
        "  return sheet.get_all_values()[0]\n",
        "\n",
        "def get_rows():\n",
        "  return sheet.get_all_values()[1:]\n",
        "\n",
        "#print(get_headers())\n",
        "#print(get_rows())"
      ]
    },
    {
      "cell_type": "markdown",
      "metadata": {
        "id": "mdD75HsUc_7e"
      },
      "source": [
        "# Update the spreadsheet data"
      ]
    },
    {
      "cell_type": "code",
      "execution_count": null,
      "metadata": {
        "id": "0P47-AtGdIV2"
      },
      "outputs": [],
      "source": [
        "def update(row,column,value):\n",
        "  sheet.update_cell(row,column,value)\n",
        "\n",
        "#update(5,3,\"9999\")"
      ]
    },
    {
      "cell_type": "markdown",
      "metadata": {
        "id": "vIUrR9F4eAOd"
      },
      "source": [
        "# Write data to the spreadsheet"
      ]
    },
    {
      "cell_type": "code",
      "execution_count": null,
      "metadata": {
        "id": "88c7VPQReC9B"
      },
      "outputs": [],
      "source": [
        "def add_data(new_entry):\n",
        "  sheet.append_row(list(new_entry.values()))\n",
        "\n",
        "#add_data({'Username': 'Tom', 'Actions': \"registered\", 'Bank Details': '4444'})  "
      ]
    },
    {
      "cell_type": "markdown",
      "source": [
        "# Telegram bot private token"
      ],
      "metadata": {
        "id": "OICrfS3O-f-_"
      }
    },
    {
      "cell_type": "code",
      "source": [
        "my_token = \"YOUR_TELEGRAM_BOT_TOKEN\""
      ],
      "metadata": {
        "id": "6NpoFj6v-cxk"
      },
      "execution_count": null,
      "outputs": []
    },
    {
      "cell_type": "markdown",
      "metadata": {
        "id": "Pb4Limwbkesb"
      },
      "source": [
        "# Implement bot's functionality"
      ]
    },
    {
      "cell_type": "code",
      "execution_count": null,
      "metadata": {
        "id": "Guhpo75-kVjb"
      },
      "outputs": [],
      "source": [
        "bot = telebot.TeleBot(my_token)\n",
        "\n",
        "@bot.message_handler(commands=[\"start\"])\n",
        "def start(message):\n",
        "  bot.send_message(message.chat.id, f\"\"\"This bot created to figure out posted job\"\"\")\n",
        "\n",
        "@bot.message_handler(commands=[\"view_user_actions\"])\n",
        "def start(message):\n",
        "  bot.send_message(message.chat.id, f\"\"\"Reading data from Google Sheet\\n\"\"\")\n",
        "  rows = get_rows()\n",
        "  bot.send_message(message.chat.id, f'{rows}')\n",
        "\n",
        "@bot.message_handler(commands=[\"add_new_data\"])\n",
        "def start(message):\n",
        "  bot.send_message(message.chat.id, f\"Please type new data:\\n\")\n",
        "\n",
        "@bot.message_handler(content_types=[\"text\"])\n",
        "def parse_url(message):\n",
        "        res = json.loads(message.text)\n",
        "        add_data(list(res.values()))\n",
        "        bot.send_message(message.chat.id, f'Added to Google Sheet')   "
      ]
    },
    {
      "cell_type": "code",
      "execution_count": null,
      "metadata": {
        "id": "o2zf65Rvkcdn"
      },
      "outputs": [],
      "source": [
        "bot.polling()"
      ]
    }
  ],
  "metadata": {
    "colab": {
      "provenance": [],
      "authorship_tag": "ABX9TyOFZBtWIMVyoXi0+nYknLgK",
      "include_colab_link": true
    },
    "kernelspec": {
      "display_name": "Python 3",
      "name": "python3"
    },
    "language_info": {
      "name": "python"
    }
  },
  "nbformat": 4,
  "nbformat_minor": 0
}