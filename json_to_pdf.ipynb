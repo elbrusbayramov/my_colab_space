{
  "nbformat": 4,
  "nbformat_minor": 0,
  "metadata": {
    "colab": {
      "provenance": [],
      "authorship_tag": "ABX9TyOQxj1ZCSj7uTal3z1RL/mB",
      "include_colab_link": true
    },
    "kernelspec": {
      "name": "python3",
      "display_name": "Python 3"
    },
    "language_info": {
      "name": "python"
    }
  },
  "cells": [
    {
      "cell_type": "markdown",
      "metadata": {
        "id": "view-in-github",
        "colab_type": "text"
      },
      "source": [
        "<a href=\"https://colab.research.google.com/github/elbrusbayramov/my_colab_space/blob/main/json_to_pdf.ipynb\" target=\"_parent\"><img src=\"https://colab.research.google.com/assets/colab-badge.svg\" alt=\"Open In Colab\"/></a>"
      ]
    },
    {
      "cell_type": "code",
      "source": [
        "!pip install reportlab"
      ],
      "metadata": {
        "id": "6RNu49HgkvTA"
      },
      "execution_count": null,
      "outputs": []
    },
    {
      "cell_type": "code",
      "source": [
        "from reportlab.lib.pagesizes import letter\n",
        "from reportlab.pdfgen import canvas"
      ],
      "metadata": {
        "id": "AZSC4b2dl4l_"
      },
      "execution_count": 2,
      "outputs": []
    },
    {
      "cell_type": "code",
      "source": [
        "purchase_data = {\n",
        "    \"order_number\": \"ORD123456\",\n",
        "    \"customer\": {\n",
        "        \"name\": \"John Draxler\",\n",
        "        \"email\": \"john.draxler@something.com\"\n",
        "    },\n",
        "    \"seller\": {\n",
        "        \"company\": \"ABC Electronics\",\n",
        "        \"seller_name\": \"Mary Smith\"\n",
        "    },\n",
        "    \"product\": {\n",
        "        \"name\": \"Smartphone\",\n",
        "        \"quantity\": 1,\n",
        "        \"unit_price\": 399.99\n",
        "    },\n",
        "    \"shipping\": {\n",
        "        \"source_address\": \"123 Main St, Downtown\",\n",
        "        \"destination_address\": \"456 Broad St, Uptown\",\n",
        "        \"ship_date\": \"2024-01-15\",\n",
        "        \"delivery_date\": \"2024-01-22\"\n",
        "    }\n",
        "}"
      ],
      "metadata": {
        "id": "lydsRzLBmBrs"
      },
      "execution_count": 3,
      "outputs": []
    },
    {
      "cell_type": "code",
      "source": [
        "def json_to_pdf(json_data, pdf_filename):\n",
        "\n",
        "    c = canvas.Canvas(pdf_filename, pagesize=letter)\n",
        "\n",
        "    c.setFont(\"Helvetica\", 12)\n",
        "\n",
        "    c.drawString(50, 750, \"Purchase Receipt\")\n",
        "\n",
        "\n",
        "    y_position = 720\n",
        "    for key, value in json_data.items():\n",
        "        if isinstance(value, dict):\n",
        "\n",
        "            for sub_key, sub_value in value.items():\n",
        "                c.drawString(50, y_position, f\"{sub_key}: {sub_value}\")\n",
        "                y_position -= 15\n",
        "        else:\n",
        "\n",
        "            c.drawString(50, y_position, f\"{key}: {value}\")\n",
        "            y_position -= 15\n",
        "\n",
        "\n",
        "    c.save()\n",
        "\n",
        "\n",
        "json_to_pdf(purchase_data, \"purchase_receipt.pdf\")\n",
        "\n",
        "print(\"PDF generated successfully.\")\n"
      ],
      "metadata": {
        "id": "6fpE4D89NAqC"
      },
      "execution_count": null,
      "outputs": []
    }
  ]
}