{
  "nbformat": 4,
  "nbformat_minor": 0,
  "metadata": {
    "colab": {
      "provenance": [],
      "authorship_tag": "ABX9TyN4wnXGMWwJhrtQuvhnPriT",
      "include_colab_link": true
    },
    "kernelspec": {
      "name": "python3",
      "display_name": "Python 3"
    },
    "language_info": {
      "name": "python"
    }
  },
  "cells": [
    {
      "cell_type": "markdown",
      "metadata": {
        "id": "view-in-github",
        "colab_type": "text"
      },
      "source": [
        "<a href=\"https://colab.research.google.com/github/elbrusbayramov/my_colab_space/blob/main/url_shortener.ipynb\" target=\"_parent\"><img src=\"https://colab.research.google.com/assets/colab-badge.svg\" alt=\"Open In Colab\"/></a>"
      ]
    },
    {
      "cell_type": "markdown",
      "source": [
        "#1. Install and Import Libraries"
      ],
      "metadata": {
        "id": "TNeaCz5a6tWK"
      }
    },
    {
      "cell_type": "code",
      "source": [
        "#@title install telegram Bot API\n",
        "!pip install pytelegrambotapi"
      ],
      "metadata": {
        "colab": {
          "base_uri": "https://localhost:8080/"
        },
        "id": "eH_fMA6G6_Vi",
        "outputId": "42b816d6-4664-4ad1-a143-fcb1a113c523"
      },
      "execution_count": null,
      "outputs": [
        {
          "output_type": "stream",
          "name": "stdout",
          "text": [
            "Looking in indexes: https://pypi.org/simple, https://us-python.pkg.dev/colab-wheels/public/simple/\n",
            "Requirement already satisfied: pytelegrambotapi in /usr/local/lib/python3.8/dist-packages (4.9.0)\n",
            "Requirement already satisfied: requests in /usr/local/lib/python3.8/dist-packages (from pytelegrambotapi) (2.25.1)\n",
            "Requirement already satisfied: chardet<5,>=3.0.2 in /usr/local/lib/python3.8/dist-packages (from requests->pytelegrambotapi) (4.0.0)\n",
            "Requirement already satisfied: idna<3,>=2.5 in /usr/local/lib/python3.8/dist-packages (from requests->pytelegrambotapi) (2.10)\n",
            "Requirement already satisfied: urllib3<1.27,>=1.21.1 in /usr/local/lib/python3.8/dist-packages (from requests->pytelegrambotapi) (1.24.3)\n",
            "Requirement already satisfied: certifi>=2017.4.17 in /usr/local/lib/python3.8/dist-packages (from requests->pytelegrambotapi) (2022.12.7)\n"
          ]
        }
      ]
    },
    {
      "cell_type": "code",
      "source": [
        "#@title import libraries\n",
        "import telebot\n",
        "import requests"
      ],
      "metadata": {
        "id": "24UCuauo7ByX"
      },
      "execution_count": null,
      "outputs": []
    },
    {
      "cell_type": "markdown",
      "source": [
        "#2 Define TOKENS"
      ],
      "metadata": {
        "id": "YfKX7Fhx6sSi"
      }
    },
    {
      "cell_type": "code",
      "source": [
        "#@title tokens\n",
        "API_KEY = \"YOUR_API_TOKEN\"\n",
        "TELEGRAM_TOKEN = \"YOUR_TELEGRAM_TOKEN\""
      ],
      "metadata": {
        "id": "N06DflLK7bbQ"
      },
      "execution_count": null,
      "outputs": []
    },
    {
      "cell_type": "markdown",
      "source": [
        "#3 Develop main function"
      ],
      "metadata": {
        "id": "A3Tlu4jf8CBK"
      }
    },
    {
      "cell_type": "code",
      "source": [
        "#@title main function\n",
        "def get_short_url(url):\n",
        "    api_url = f\"https://cutt.ly/api/api.php?key={API_KEY}&short={url}\"\n",
        "    data = requests.get(api_url).json()[\"url\"]\n",
        "    #print(data)\n",
        "    if data[\"status\"] == 7:\n",
        "        return data[\"shortLink\"]\n",
        "    else:\n",
        "        return \"Something bad happened\""
      ],
      "metadata": {
        "id": "MSKowAkhrv2a"
      },
      "execution_count": null,
      "outputs": []
    },
    {
      "cell_type": "markdown",
      "source": [
        "#4 Develop Telegram Part"
      ],
      "metadata": {
        "id": "54rK7Ms38kDq"
      }
    },
    {
      "cell_type": "code",
      "source": [
        "#@title telebot instance and handlers creation\n",
        "bot = telebot.TeleBot(TELEGRAM_TOKEN)\n",
        "\n",
        "@bot.message_handler(commands=[\"start\"])\n",
        "def start(message):\n",
        "  bot.send_message(message.chat.id, f\"\"\"Hi this is a free service\n",
        "to shorten long URLs,please paste valid long URL:\"\"\")\n",
        "\n",
        "@bot.message_handler(content_types=[\"text\"])\n",
        "def parse_url(message):\n",
        "        bot.send_message(message.chat.id, f'Shortening...')\n",
        "        result = get_short_url(message.text)\n",
        "        bot.send_message(message.chat.id, f'Short URL: {result}')"
      ],
      "metadata": {
        "id": "tsU2X23Gxhi4"
      },
      "execution_count": null,
      "outputs": []
    },
    {
      "cell_type": "code",
      "source": [
        "#@title polling\n",
        "bot.polling()"
      ],
      "metadata": {
        "id": "fkfpLs7fyOWZ"
      },
      "execution_count": null,
      "outputs": []
    }
  ]
}