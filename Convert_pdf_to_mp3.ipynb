{
  "nbformat": 4,
  "nbformat_minor": 0,
  "metadata": {
    "colab": {
      "provenance": [],
      "authorship_tag": "ABX9TyOgLU/HkmCe4zaVeGSfcuYY",
      "include_colab_link": true
    },
    "kernelspec": {
      "name": "python3",
      "display_name": "Python 3"
    },
    "language_info": {
      "name": "python"
    }
  },
  "cells": [
    {
      "cell_type": "markdown",
      "metadata": {
        "id": "view-in-github",
        "colab_type": "text"
      },
      "source": [
        "<a href=\"https://colab.research.google.com/github/elbrusbayramov/my_colab_space/blob/main/Convert_pdf_to_mp3.ipynb\" target=\"_parent\"><img src=\"https://colab.research.google.com/assets/colab-badge.svg\" alt=\"Open In Colab\"/></a>"
      ]
    },
    {
      "cell_type": "code",
      "source": [
        "!pip install gTTS pdfplumber"
      ],
      "metadata": {
        "id": "FlWxlMENMbuZ"
      },
      "execution_count": null,
      "outputs": []
    },
    {
      "cell_type": "code",
      "execution_count": 3,
      "metadata": {
        "id": "iwMa4DAlMDJl"
      },
      "outputs": [],
      "source": [
        "from gtts import gTTS\n",
        "import pdfplumber\n",
        "\n",
        "def pdf_to_mp3(pdf_file, language):\n",
        "\n",
        "    print(f'Original file: {pdf_file}')\n",
        "    print('Converting in progress...')\n",
        "\n",
        "    with pdfplumber.PDF(open(file=pdf_file, mode='rb')) as pdf:\n",
        "      pages = [page.extract_text() for page in pdf.pages]\n",
        "      text = ''.join(pages)\n",
        "      text = text.replace('\\n', '')\n",
        "      my_audio = gTTS(text=text, lang=language, slow=False)\n",
        "      audio_file_name = pdf_file.split('.')[0]+'.mp3'\n",
        "      my_audio.save(audio_file_name)\n",
        "    return f'{audio_file_name} file created!\\n'\n",
        "\n",
        "\n"
      ]
    },
    {
      "cell_type": "code",
      "source": [
        "print(\"PDF-to-MP3\")\n",
        "print(pdf_to_mp3(pdf_file=\"ChatGPT.pdf\", language=\"en\"))"
      ],
      "metadata": {
        "id": "iuWy_i7fNSNd"
      },
      "execution_count": null,
      "outputs": []
    }
  ]
}