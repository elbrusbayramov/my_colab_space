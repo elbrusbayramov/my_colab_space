{
  "nbformat": 4,
  "nbformat_minor": 0,
  "metadata": {
    "colab": {
      "provenance": [],
      "authorship_tag": "ABX9TyN6YkrWZMN4aY9Uc3XIBej7",
      "include_colab_link": true
    },
    "kernelspec": {
      "name": "python3",
      "display_name": "Python 3"
    },
    "language_info": {
      "name": "python"
    }
  },
  "cells": [
    {
      "cell_type": "markdown",
      "metadata": {
        "id": "view-in-github",
        "colab_type": "text"
      },
      "source": [
        "<a href=\"https://colab.research.google.com/github/elbrusbayramov/my_colab_space/blob/main/Convert_YouTube_video_to_mp3.ipynb\" target=\"_parent\"><img src=\"https://colab.research.google.com/assets/colab-badge.svg\" alt=\"Open In Colab\"/></a>"
      ]
    },
    {
      "cell_type": "code",
      "execution_count": null,
      "metadata": {
        "id": "zMG1wdVP2Vup"
      },
      "outputs": [],
      "source": [
        "!pip install git+https://github.com/openai/whisper.git"
      ]
    },
    {
      "cell_type": "code",
      "source": [
        "!sudo apt update && sudo apt install ffmpeg"
      ],
      "metadata": {
        "id": "MLZcE_OV3COF"
      },
      "execution_count": null,
      "outputs": []
    },
    {
      "cell_type": "code",
      "source": [
        "! pip install yt-dlp"
      ],
      "metadata": {
        "id": "h5xOvCxL3FnA"
      },
      "execution_count": null,
      "outputs": []
    },
    {
      "cell_type": "code",
      "source": [
        "! yt-dlp -x --audio-format mp3 -o audio.mp3 https://www.youtube.com/watch?v=rMUgnPrOcxQ"
      ],
      "metadata": {
        "id": "HaACuCMp3S9B"
      },
      "execution_count": null,
      "outputs": []
    },
    {
      "cell_type": "code",
      "source": [
        "list_of_links = ['https://www.youtube.com/watch?v=rMUgnPrOcxQ','https://www.youtube.com/watch?v=VGumA4QqR10']"
      ],
      "metadata": {
        "id": "PXUAW8rq3e9w"
      },
      "execution_count": null,
      "outputs": []
    },
    {
      "cell_type": "code",
      "source": [
        "def convert_to_audio(list):\n",
        "  for index, element in enumerate(list, start=1):\n",
        "    output_file = f\"audio{index}.mp3\"\n",
        "    command = f\"yt-dlp -x --audio-format mp3 -o {output_file} {element}\"\n",
        "    ! {command}"
      ],
      "metadata": {
        "id": "zhMHvKUs3jLL"
      },
      "execution_count": null,
      "outputs": []
    },
    {
      "cell_type": "code",
      "source": [
        "convert_to_audio(list_of_links)"
      ],
      "metadata": {
        "id": "61o2gMJ134Rx"
      },
      "execution_count": null,
      "outputs": []
    }
  ]
}