{
  "nbformat": 4,
  "nbformat_minor": 0,
  "metadata": {
    "colab": {
      "provenance": [],
      "authorship_tag": "ABX9TyPfZAIGTsjDsG0EhKYXxS3x",
      "include_colab_link": true
    },
    "kernelspec": {
      "name": "python3",
      "display_name": "Python 3"
    },
    "language_info": {
      "name": "python"
    }
  },
  "cells": [
    {
      "cell_type": "markdown",
      "metadata": {
        "id": "view-in-github",
        "colab_type": "text"
      },
      "source": [
        "<a href=\"https://colab.research.google.com/github/elbrusbayramov/my_colab_space/blob/main/what_is_variable_data_types.ipynb\" target=\"_parent\"><img src=\"https://colab.research.google.com/assets/colab-badge.svg\" alt=\"Open In Colab\"/></a>"
      ]
    },
    {
      "cell_type": "code",
      "execution_count": null,
      "metadata": {
        "id": "7CCNjJkS8HfI"
      },
      "outputs": [],
      "source": [
        "1+2"
      ]
    },
    {
      "cell_type": "code",
      "source": [
        "my_name = 'John'\n",
        "my_city = 'Milan'\n",
        "my_age = 54\n",
        "like_car = True\n",
        "print(my_name)\n",
        "print(my_city)\n",
        "print(my_age)"
      ],
      "metadata": {
        "id": "HBpaC2nX9BH1"
      },
      "execution_count": null,
      "outputs": []
    },
    {
      "cell_type": "code",
      "source": [
        "if like_car == True:\n",
        "  print(my_name)\n",
        "  print(my_city)\n",
        "  print(my_age)"
      ],
      "metadata": {
        "id": "rIcnKYpD-s1x"
      },
      "execution_count": null,
      "outputs": []
    },
    {
      "cell_type": "code",
      "source": [
        "# This is a comment. Any text that follows the # symbol\n",
        "# will not be executed by the Python interpreter.\n",
        "\n",
        "x = 10 # This is a comment at the end of the line that specifies the value of variable x."
      ],
      "metadata": {
        "id": "2ctv4Yo5_hqh"
      },
      "execution_count": 18,
      "outputs": []
    }
  ]
}