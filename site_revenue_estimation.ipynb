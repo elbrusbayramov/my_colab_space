{
  "nbformat": 4,
  "nbformat_minor": 0,
  "metadata": {
    "colab": {
      "provenance": [],
      "toc_visible": true,
      "authorship_tag": "ABX9TyOTPGiEbdH7ijxBtiuH0EhY",
      "include_colab_link": true
    },
    "kernelspec": {
      "name": "python3",
      "display_name": "Python 3"
    },
    "language_info": {
      "name": "python"
    }
  },
  "cells": [
    {
      "cell_type": "markdown",
      "metadata": {
        "id": "view-in-github",
        "colab_type": "text"
      },
      "source": [
        "<a href=\"https://colab.research.google.com/github/elbrusbayramov/my_colab_space/blob/main/site_revenue_estimation.ipynb\" target=\"_parent\"><img src=\"https://colab.research.google.com/assets/colab-badge.svg\" alt=\"Open In Colab\"/></a>"
      ]
    },
    {
      "cell_type": "markdown",
      "source": [
        "# 1. Install and Import Libraries"
      ],
      "metadata": {
        "id": "hsqXM5VSC3ow"
      }
    },
    {
      "cell_type": "code",
      "source": [
        "#@title install telegram Bot API\n",
        "!pip install pytelegrambotapi"
      ],
      "metadata": {
        "id": "K5-RUv0yZFZ4",
        "cellView": "form",
        "outputId": "15ac4d0b-3a4f-4430-9f6e-fcd55c26bef5",
        "colab": {
          "base_uri": "https://localhost:8080/"
        }
      },
      "execution_count": 1,
      "outputs": [
        {
          "output_type": "stream",
          "name": "stdout",
          "text": [
            "Looking in indexes: https://pypi.org/simple, https://us-python.pkg.dev/colab-wheels/public/simple/\n",
            "Collecting pytelegrambotapi\n",
            "  Downloading pyTelegramBotAPI-4.8.0.tar.gz (217 kB)\n",
            "\u001b[K     |████████████████████████████████| 217 kB 8.2 MB/s \n",
            "\u001b[?25hRequirement already satisfied: requests in /usr/local/lib/python3.8/dist-packages (from pytelegrambotapi) (2.23.0)\n",
            "Requirement already satisfied: certifi>=2017.4.17 in /usr/local/lib/python3.8/dist-packages (from requests->pytelegrambotapi) (2022.12.7)\n",
            "Requirement already satisfied: chardet<4,>=3.0.2 in /usr/local/lib/python3.8/dist-packages (from requests->pytelegrambotapi) (3.0.4)\n",
            "Requirement already satisfied: idna<3,>=2.5 in /usr/local/lib/python3.8/dist-packages (from requests->pytelegrambotapi) (2.10)\n",
            "Requirement already satisfied: urllib3!=1.25.0,!=1.25.1,<1.26,>=1.21.1 in /usr/local/lib/python3.8/dist-packages (from requests->pytelegrambotapi) (1.24.3)\n",
            "Building wheels for collected packages: pytelegrambotapi\n",
            "  Building wheel for pytelegrambotapi (setup.py) ... \u001b[?25l\u001b[?25hdone\n",
            "  Created wheel for pytelegrambotapi: filename=pyTelegramBotAPI-4.8.0-py3-none-any.whl size=200125 sha256=52e63699771965b677ef6b03298512ba8494a6d862144bb08da361729be8f768\n",
            "  Stored in directory: /root/.cache/pip/wheels/c2/05/70/8409792e663e67a70e057df1f18d070105c1c457b3f410bbb0\n",
            "Successfully built pytelegrambotapi\n",
            "Installing collected packages: pytelegrambotapi\n",
            "Successfully installed pytelegrambotapi-4.8.0\n"
          ]
        }
      ]
    },
    {
      "cell_type": "code",
      "source": [
        "#@title import libraries\n",
        "import telebot\n",
        "import time\n",
        "from bs4 import BeautifulSoup\n",
        "from urllib.request import urlopen\n"
      ],
      "metadata": {
        "id": "EpPjJct2ZMpQ"
      },
      "execution_count": 2,
      "outputs": []
    },
    {
      "cell_type": "markdown",
      "source": [
        "# 2. Develop main function"
      ],
      "metadata": {
        "id": "sKD5JOL8D_aI"
      }
    },
    {
      "cell_type": "code",
      "source": [
        "#@title define base url\n",
        "base_url = \"https://www.siteworthtraffic.com/report/\""
      ],
      "metadata": {
        "id": "S33r30nMEtTF"
      },
      "execution_count": 4,
      "outputs": []
    },
    {
      "cell_type": "code",
      "source": [
        "#@title main function: version 1.0\n",
        "def get_data(url):\n",
        "  print(url)"
      ],
      "metadata": {
        "id": "RS37goanJSIN",
        "cellView": "form"
      },
      "execution_count": 6,
      "outputs": []
    },
    {
      "cell_type": "code",
      "source": [
        "#@title main function: version 1.1\n",
        "def get_data(url):\n",
        "  target_url = base_url + url\n",
        "  print(target_url)"
      ],
      "metadata": {
        "id": "mFUL0a_-KZSm",
        "cellView": "form"
      },
      "execution_count": 8,
      "outputs": []
    },
    {
      "cell_type": "code",
      "source": [
        "#@title main function: version 2.0 (final)\n",
        "def get_data(url):\n",
        "    target_url = base_url + url\n",
        "    while True:\n",
        "        try:\n",
        "            html = urlopen(target_url);\n",
        "            break\n",
        "        except Exception as e:\n",
        "            print(e)\n",
        "            time.sleep(2)\n",
        "\n",
        "    data = html.read()\n",
        "    soup = BeautifulSoup(data, 'html.parser')\n",
        "    tables = soup.find_all('table', class_='styled', limit=1)\n",
        "\n",
        "    for row in tables:\n",
        "        columns = row.find_all('td')\n",
        "        text = f\"{columns[0].text.strip()} : {columns[1].text.strip()}\\n\" \\\n",
        "               f\"{columns[2].text.strip()} : {columns[3].text.strip()}\\n\" \\\n",
        "               f\"{columns[4].text.strip()} : {columns[5].text.strip()}\\n\"\n",
        "        return text\n"
      ],
      "metadata": {
        "cellView": "form",
        "id": "t4IpJy2GM9Td"
      },
      "execution_count": 29,
      "outputs": []
    },
    {
      "cell_type": "code",
      "source": [
        "#@title test(or call) main function\n",
        "get_data(\"google.com\")"
      ],
      "metadata": {
        "colab": {
          "base_uri": "https://localhost:8080/",
          "height": 35
        },
        "id": "FUNLyyIvUvDY",
        "outputId": "7fc06ad0-cb25-456c-b141-159f5a858d78"
      },
      "execution_count": 30,
      "outputs": [
        {
          "output_type": "execute_result",
          "data": {
            "text/plain": [
              "'Unique Visitors : 85,308,207\\nRevenue (From Ads) : $ 1,013,740 USD\\nUnique Pageviews : 1,013,733,360\\n'"
            ],
            "application/vnd.google.colaboratory.intrinsic+json": {
              "type": "string"
            }
          },
          "metadata": {},
          "execution_count": 30
        }
      ]
    },
    {
      "cell_type": "markdown",
      "source": [
        "#3 Develop Telegram Part"
      ],
      "metadata": {
        "id": "5mteJHDJPRwC"
      }
    },
    {
      "cell_type": "code",
      "source": [
        "#@title define token\n",
        "my_token = \"5879997674:AAFQsqVE1LOKQP2bf4HWQPymJYOlZhuifn4\""
      ],
      "metadata": {
        "id": "xXb15bjLjuSK"
      },
      "execution_count": 13,
      "outputs": []
    },
    {
      "cell_type": "code",
      "source": [
        "#@title Telebot instance and handlers creation: version 1.0\n",
        "bot = telebot.TeleBot(my_token)\n",
        "\n",
        "@bot.message_handler(commands=[\"start\"])\n",
        "def start(message):\n",
        "  bot.send_message(message.chat.id, \"Hello I am human\")"
      ],
      "metadata": {
        "id": "NXpHHeDNj10B",
        "cellView": "form"
      },
      "execution_count": 16,
      "outputs": []
    },
    {
      "cell_type": "code",
      "source": [
        "#@title Telebot instance and handlers creation: version 1.1\n",
        "bot = telebot.TeleBot(my_token)\n",
        "\n",
        "@bot.message_handler(commands=[\"start\"])\n",
        "def start(message):\n",
        "  bot.send_message(message.chat.id, \"Hello I am bot\")\n",
        "\n",
        "@bot.message_handler(content_types=[\"text\"])\n",
        "def another_function(message):\n",
        "        bot.send_message(message.chat.id, f'Hi, seems you typed {message.text}')\n"
      ],
      "metadata": {
        "cellView": "form",
        "id": "djeefLvyShEu"
      },
      "execution_count": 22,
      "outputs": []
    },
    {
      "cell_type": "code",
      "source": [
        "#@title Telebot instance and handlers creation: version 1.2 (final)\n",
        "bot = telebot.TeleBot(my_token)\n",
        "\n",
        "@bot.message_handler(commands=[\"start\"])\n",
        "def start(message):\n",
        "  bot.send_message(message.chat.id, f\"\"\"Hello,\n",
        "This bot is designed to estimate value,daily pageviews,\n",
        "daily visitors and daily revenue of a websites.\n",
        "Please type web site, example: google.com\"\"\")\n",
        "\n",
        "@bot.message_handler(content_types=[\"text\"])\n",
        "def parse_url(message):\n",
        "        bot.send_message(message.chat.id, f'Preparing data for {message.text}')\n",
        "        result = get_data(message.text)\n",
        "        bot.send_message(message.chat.id, f'DAILY ESTIMATIONS\\n{result}')\n"
      ],
      "metadata": {
        "cellView": "form",
        "id": "0Y0KcpbuTKPQ"
      },
      "execution_count": 34,
      "outputs": []
    },
    {
      "cell_type": "code",
      "source": [
        "#@title make bot to be alive))\n",
        "bot.polling()"
      ],
      "metadata": {
        "id": "SUy6PG0SQHfg"
      },
      "execution_count": null,
      "outputs": []
    }
  ]
}