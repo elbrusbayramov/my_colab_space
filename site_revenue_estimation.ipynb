{
  "nbformat": 4,
  "nbformat_minor": 0,
  "metadata": {
    "colab": {
      "provenance": [],
      "toc_visible": true,
      "authorship_tag": "ABX9TyNzEoVbNmg6kAdiYSAqel6A",
      "include_colab_link": true
    },
    "kernelspec": {
      "name": "python3",
      "display_name": "Python 3"
    },
    "language_info": {
      "name": "python"
    }
  },
  "cells": [
    {
      "cell_type": "markdown",
      "metadata": {
        "id": "view-in-github",
        "colab_type": "text"
      },
      "source": [
        "<a href=\"https://colab.research.google.com/github/elbrusbayramov/my_colab_space/blob/main/site_revenue_estimation.ipynb\" target=\"_parent\"><img src=\"https://colab.research.google.com/assets/colab-badge.svg\" alt=\"Open In Colab\"/></a>"
      ]
    },
    {
      "cell_type": "markdown",
      "source": [
        "# 1. Install and Import Libraries"
      ],
      "metadata": {
        "id": "hsqXM5VSC3ow"
      }
    },
    {
      "cell_type": "code",
      "source": [
        "#@title install telegram Bot API\n",
        "!pip install pytelegrambotapi"
      ],
      "metadata": {
        "id": "K5-RUv0yZFZ4",
        "cellView": "form"
      },
      "execution_count": null,
      "outputs": []
    },
    {
      "cell_type": "code",
      "source": [
        "#@title import libraries\n",
        "import telebot\n",
        "import time\n",
        "from bs4 import BeautifulSoup\n",
        "from urllib.request import urlopen\n"
      ],
      "metadata": {
        "id": "EpPjJct2ZMpQ",
        "cellView": "form"
      },
      "execution_count": 11,
      "outputs": []
    },
    {
      "cell_type": "markdown",
      "source": [
        "# 2. Develop main function"
      ],
      "metadata": {
        "id": "sKD5JOL8D_aI"
      }
    },
    {
      "cell_type": "code",
      "source": [
        "#@title define base url\n",
        "base_url = \"https://www.siteworthtraffic.com/report/\""
      ],
      "metadata": {
        "id": "S33r30nMEtTF",
        "cellView": "form"
      },
      "execution_count": 12,
      "outputs": []
    },
    {
      "cell_type": "code",
      "source": [
        "#@title main function\n",
        "def get_data(url):\n",
        "    target_url = base_url + url\n",
        "    \n",
        "    html = urlopen(target_url);\n",
        "    data = html.read()\n",
        "    soup = BeautifulSoup(data, 'html.parser')\n",
        "    tables = soup.find_all('table', class_='styled', limit=1)\n",
        "\n",
        "    for row in tables:\n",
        "        columns = row.find_all('td')\n",
        "        text = f\"{columns[0].text.strip()} : {columns[1].text.strip()}\\n\" \\\n",
        "               f\"{columns[2].text.strip()} : {columns[3].text.strip()}\\n\" \\\n",
        "               f\"{columns[4].text.strip()} : {columns[5].text.strip()}\\n\"\n",
        "        return text\n"
      ],
      "metadata": {
        "cellView": "form",
        "id": "t4IpJy2GM9Td"
      },
      "execution_count": 15,
      "outputs": []
    },
    {
      "cell_type": "code",
      "source": [
        "#@title test(or call) main function\n",
        "get_data(\"google.com\")"
      ],
      "metadata": {
        "id": "FUNLyyIvUvDY",
        "cellView": "form"
      },
      "execution_count": null,
      "outputs": []
    },
    {
      "cell_type": "markdown",
      "source": [
        "#3 Develop Telegram Part"
      ],
      "metadata": {
        "id": "5mteJHDJPRwC"
      }
    },
    {
      "cell_type": "code",
      "source": [
        "#@title define token\n",
        "my_token = \"YOUR_TELEGRAM_TOKEN\""
      ],
      "metadata": {
        "id": "xXb15bjLjuSK",
        "cellView": "form"
      },
      "execution_count": 20,
      "outputs": []
    },
    {
      "cell_type": "code",
      "source": [
        "#@title Telebot instance and handlers creation\n",
        "bot = telebot.TeleBot(my_token)\n",
        "\n",
        "@bot.message_handler(commands=[\"start\"])\n",
        "def start(message):\n",
        "  bot.send_message(message.chat.id, f\"\"\"Hello,\n",
        "This bot is designed to estimate value,daily pageviews,\n",
        "daily visitors and daily revenue of a websites.\n",
        "Please type web site, example: google.com\"\"\")\n",
        "\n",
        "@bot.message_handler(content_types=[\"text\"])\n",
        "def parse_url(message):\n",
        "        bot.send_message(message.chat.id, f'Preparing data for {message.text}')\n",
        "        result = get_data(message.text)\n",
        "        bot.send_message(message.chat.id, f'DAILY ESTIMATIONS\\n{result}')\n"
      ],
      "metadata": {
        "cellView": "form",
        "id": "0Y0KcpbuTKPQ"
      },
      "execution_count": 18,
      "outputs": []
    },
    {
      "cell_type": "code",
      "source": [
        "#@title make bot to be alive))\n",
        "bot.polling()"
      ],
      "metadata": {
        "id": "SUy6PG0SQHfg",
        "cellView": "form"
      },
      "execution_count": 19,
      "outputs": []
    }
  ]
}