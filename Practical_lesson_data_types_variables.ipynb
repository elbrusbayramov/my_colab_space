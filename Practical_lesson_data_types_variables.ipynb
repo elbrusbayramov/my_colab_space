{
  "nbformat": 4,
  "nbformat_minor": 0,
  "metadata": {
    "colab": {
      "provenance": [],
      "authorship_tag": "ABX9TyMVeiQwYmWsHoW3g3Yl2QaI",
      "include_colab_link": true
    },
    "kernelspec": {
      "name": "python3",
      "display_name": "Python 3"
    },
    "language_info": {
      "name": "python"
    }
  },
  "cells": [
    {
      "cell_type": "markdown",
      "metadata": {
        "id": "view-in-github",
        "colab_type": "text"
      },
      "source": [
        "<a href=\"https://colab.research.google.com/github/elbrusbayramov/my_colab_space/blob/main/Practical_lesson_data_types_variables.ipynb\" target=\"_parent\"><img src=\"https://colab.research.google.com/assets/colab-badge.svg\" alt=\"Open In Colab\"/></a>"
      ]
    },
    {
      "cell_type": "code",
      "source": [
        "my_name = 'Elbioman'\n",
        "my_lovely_language = 'Python'\n",
        "has_dog = True\n",
        "dog_age = 7\n",
        "print(my_name)"
      ],
      "metadata": {
        "id": "AirsCSP_T-Hj"
      },
      "execution_count": null,
      "outputs": []
    },
    {
      "cell_type": "code",
      "source": [
        "#if = 'Elbioman'\n",
        "#1my_name = 'Elbioman'"
      ],
      "metadata": {
        "id": "FnHTSpqVUJNA"
      },
      "execution_count": null,
      "outputs": []
    },
    {
      "cell_type": "code",
      "source": [
        "2+2"
      ],
      "metadata": {
        "id": "rHbJTZGoUelK"
      },
      "execution_count": null,
      "outputs": []
    },
    {
      "cell_type": "code",
      "source": [
        "#Add\n",
        "a = 2\n",
        "b = 3\n",
        "c = a + b\n",
        "print(c)"
      ],
      "metadata": {
        "id": "nNhzvTZXUgBm"
      },
      "execution_count": null,
      "outputs": []
    },
    {
      "cell_type": "code",
      "source": [
        "#Subtract\n",
        "e = 7\n",
        "d = 5\n",
        "f = e-d\n",
        "print(f)"
      ],
      "metadata": {
        "id": "gP-I_7yiUqEv"
      },
      "execution_count": null,
      "outputs": []
    },
    {
      "cell_type": "code",
      "source": [
        "#Multiplication\n",
        "number_of_rows = 3\n",
        "number_of_columns=4\n",
        "total_cells =number_of_rows * number_of_columns\n",
        "print(total_cells)\n"
      ],
      "metadata": {
        "id": "XmPj5vheUyr_"
      },
      "execution_count": null,
      "outputs": []
    },
    {
      "cell_type": "code",
      "execution_count": null,
      "metadata": {
        "id": "AR3wTZ2mMQK-"
      },
      "outputs": [],
      "source": [
        "#Division\n",
        "cars = 20\n",
        "drivers = 4\n",
        "result = cars/drivers\n",
        "print(result)"
      ]
    },
    {
      "cell_type": "code",
      "source": [
        "cars = 20\n",
        "drivers = 4\n",
        "result = cars//drivers\n",
        "print(result)"
      ],
      "metadata": {
        "id": "CS4BQ8z7VcPB"
      },
      "execution_count": null,
      "outputs": []
    },
    {
      "cell_type": "code",
      "source": [
        "print(5//4)"
      ],
      "metadata": {
        "id": "Gap1uui4Vtss"
      },
      "execution_count": null,
      "outputs": []
    },
    {
      "cell_type": "code",
      "source": [
        "print(5%3)"
      ],
      "metadata": {
        "id": "Zki-cgkjVkFu"
      },
      "execution_count": null,
      "outputs": []
    },
    {
      "cell_type": "code",
      "source": [
        "print(6%3)"
      ],
      "metadata": {
        "id": "6zDsZPc3V0MG"
      },
      "execution_count": null,
      "outputs": []
    },
    {
      "cell_type": "code",
      "source": [
        "a = 2\n",
        "b = 3\n",
        "c = (a+b)*2/(a-b)\n",
        "print(c)"
      ],
      "metadata": {
        "id": "KEhqBss8V27I"
      },
      "execution_count": null,
      "outputs": []
    },
    {
      "cell_type": "code",
      "source": [
        "a = 5\n",
        "b = 10\n",
        "\n",
        "perimeter = 2 * ( a + b )\n",
        "area = a * b\n",
        "\n",
        "print (\"Perimeter of rectangle :\" , perimeter)\n",
        "print (\"Area of rectangle :\" , area)\n",
        "\n",
        "print (\"Perimeter of rectangle :\",perimeter,\" and \",\"Area of rectangle :\",area)"
      ],
      "metadata": {
        "id": "_Mr5T3TZTc1y"
      },
      "execution_count": null,
      "outputs": []
    },
    {
      "cell_type": "code",
      "source": [
        "n = 125\n",
        "n = 200\n",
        "n = 2000\n",
        "n = 3700\n",
        "hours = n//3600\n",
        "minutes = (n%3600)//60\n",
        "seconds = n%60\n",
        "print(n,\" seconds are \",hours,\" hours, \",minutes,\" minutes and \",seconds,\" seconds\")"
      ],
      "metadata": {
        "id": "Zjp9IQlvW4c9"
      },
      "execution_count": null,
      "outputs": []
    },
    {
      "cell_type": "code",
      "source": [
        "a = 24\n",
        "print(type(a))\n"
      ],
      "metadata": {
        "id": "C35-IQElZaGB"
      },
      "execution_count": null,
      "outputs": []
    },
    {
      "cell_type": "code",
      "source": [
        "i_am_a_string = str(a)\n",
        "print(i_am_a_string)\n",
        "print(type(i_am_a_string))\n",
        "\n"
      ],
      "metadata": {
        "id": "Pa0gXGrNZf4a"
      },
      "execution_count": null,
      "outputs": []
    },
    {
      "cell_type": "code",
      "source": [
        "b = int (i_am_a_string)\n",
        "print(b)\n",
        "print(type(b))\n"
      ],
      "metadata": {
        "id": "9Axg7543Z9AK"
      },
      "execution_count": null,
      "outputs": []
    },
    {
      "cell_type": "code",
      "source": [
        "c = 3.5\n",
        "print(type(c))\n"
      ],
      "metadata": {
        "id": "842JvOyTaqaJ"
      },
      "execution_count": null,
      "outputs": []
    },
    {
      "cell_type": "code",
      "source": [
        "d = int (c)\n",
        "print(d)\n",
        "print(type(d))"
      ],
      "metadata": {
        "id": "qalKCP-4ax2n"
      },
      "execution_count": null,
      "outputs": []
    },
    {
      "cell_type": "code",
      "source": [
        "f = True\n",
        "print(f)\n",
        "print(type(f))"
      ],
      "metadata": {
        "id": "dLwtmqsSbATB"
      },
      "execution_count": null,
      "outputs": []
    },
    {
      "cell_type": "code",
      "source": [
        "e = int (f)\n",
        "print(e)\n",
        "print(type(e))"
      ],
      "metadata": {
        "id": "My0Bc045bPKU"
      },
      "execution_count": null,
      "outputs": []
    },
    {
      "cell_type": "code",
      "source": [
        "b = bool (e)\n",
        "print(b)\n",
        "print(type(b))"
      ],
      "metadata": {
        "id": "leQumkvGbsU-"
      },
      "execution_count": null,
      "outputs": []
    },
    {
      "cell_type": "code",
      "source": [
        "a = 'my number is 42'\n",
        "b = int(a)\n"
      ],
      "metadata": {
        "id": "n-NG6zkfc0LU"
      },
      "execution_count": null,
      "outputs": []
    },
    {
      "cell_type": "code",
      "source": [
        "# x < y - x strictly less than y ,\n",
        "# x <= y - x is less than or equal to y ,\n",
        "# x > y - x is strictly greater than y ,\n",
        "# x >= y - x is greater than or equal to y ,\n",
        "# x == y - x equals y,\n",
        "# x ! = y - x is not equal to y ."
      ],
      "metadata": {
        "id": "Zv-PiJtsdDgQ"
      },
      "execution_count": null,
      "outputs": []
    },
    {
      "cell_type": "code",
      "source": [
        "3 > 2 # True\n",
        "3 < -5 # False\n",
        "5 != 6 # five is not equal to six, this is true, so here we get True\n",
        "10 == 10 # True\n"
      ],
      "metadata": {
        "id": "SbdKFY8gdK3F"
      },
      "execution_count": null,
      "outputs": []
    },
    {
      "cell_type": "code",
      "source": [
        "'abc' == 'abc'"
      ],
      "metadata": {
        "id": "UG82WrJGdRLi"
      },
      "execution_count": null,
      "outputs": []
    },
    {
      "cell_type": "code",
      "source": [
        "'abc' > 'aba'"
      ],
      "metadata": {
        "id": "irTz2m8idcux"
      },
      "execution_count": null,
      "outputs": []
    },
    {
      "cell_type": "code",
      "source": [
        "str1 = 'hello'\n",
        "str2 = 'world'\n",
        "result = str1 < str2\n",
        "print(result)\n"
      ],
      "metadata": {
        "id": "enH7yQZ_doqc"
      },
      "execution_count": null,
      "outputs": []
    },
    {
      "cell_type": "code",
      "source": [
        "str1 = 'apple'\n",
        "str2 = 'banana'\n",
        "result = str1 > str2\n",
        "print(result)\n"
      ],
      "metadata": {
        "id": "RAuicwv3dt9x"
      },
      "execution_count": null,
      "outputs": []
    },
    {
      "cell_type": "code",
      "source": [
        "str1 = ' abc '\n",
        "str2 = 'aba'\n",
        "result = str1 > str2\n",
        "print(result)\n"
      ],
      "metadata": {
        "id": "hyLTJQCMdxTg"
      },
      "execution_count": null,
      "outputs": []
    },
    {
      "cell_type": "code",
      "source": [
        "a = 5\n",
        "b = 10\n",
        "c = 15\n",
        "print ( a < b and b < c) # will return True , both conditions are true\n",
        "print ( a < b and b > c) # will return False , one condition was not met\n"
      ],
      "metadata": {
        "id": "Pt6REmlqd3JC"
      },
      "execution_count": null,
      "outputs": []
    },
    {
      "cell_type": "code",
      "source": [
        "age = 17\n",
        "print( age < 18 or age > 60) # will return True, the first y clovie _ completed\n",
        "print ( age < 16 or age > 60) # will return False , no conditions are met\n"
      ],
      "metadata": {
        "id": "IlYNHsWad7bC"
      },
      "execution_count": null,
      "outputs": []
    },
    {
      "cell_type": "code",
      "source": [
        "is_admin = True\n",
        "print( not is_admin ) # will return False\n",
        "\n"
      ],
      "metadata": {
        "id": "lKxM4Ho1d_yI"
      },
      "execution_count": null,
      "outputs": []
    },
    {
      "cell_type": "code",
      "source": [
        "string1 = 'Hello , world!'\n",
        "string2 = \"I'm a Python developer.\"\n",
        "\n"
      ],
      "metadata": {
        "id": "Wrg3j9kOeRHW"
      },
      "execution_count": 1,
      "outputs": []
    },
    {
      "cell_type": "code",
      "source": [
        "# \\n - line break\n",
        "# \\t - tab\n",
        "# \\' - single quote\n",
        "# \\\" - double quote\n",
        "# \\\\ - backslash\n"
      ],
      "metadata": {
        "id": "0HOxEsYJfw3S"
      },
      "execution_count": null,
      "outputs": []
    },
    {
      "cell_type": "code",
      "source": [
        "string1 = '\\'Python\\' - most popular language !\\n 2023'\n",
        "print(string1)\n"
      ],
      "metadata": {
        "id": "p_Frbe9gf3c3"
      },
      "execution_count": null,
      "outputs": []
    },
    {
      "cell_type": "code",
      "source": [
        "print(\"Hello\\nworld!\")\n",
        "print(\"C:\\\\Users\\\\user\\\\Desktop\\\\main.txt\")\n",
        "print(\"Name:\\tJohn \")\n",
        "print('It\\'s a amazing day!')\n",
        "print(\"It's a amazing day!\")\n"
      ],
      "metadata": {
        "id": "BXePCsIkgOSV"
      },
      "execution_count": null,
      "outputs": []
    }
  ]
}